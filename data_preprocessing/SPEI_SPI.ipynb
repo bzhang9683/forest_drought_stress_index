{
 "cells": [
  {
   "cell_type": "code",
   "execution_count": 1,
   "metadata": {},
   "outputs": [],
   "source": [
    "import pandas as pd\n",
    "import os\n",
    "import numpy as np\n",
    "import glob\n",
    "import gdal\n",
    "from gdalconst import GA_ReadOnly"
   ]
  },
  {
   "cell_type": "code",
   "execution_count": 12,
   "metadata": {},
   "outputs": [],
   "source": [
    "idir = 'R:\\\\UnitedStates\\\\ForDRI_project-NEW\\\\Case_Study_2022_Growing_Season\\\\SPEI\\\\spei_12_mn_resampled\\\\'"
   ]
  },
  {
   "cell_type": "code",
   "execution_count": 13,
   "metadata": {},
   "outputs": [],
   "source": [
    "odir = 'R:\\\\UnitedStates\\\\ForDRI_project-NEW\\\\Case_Study_2022_Growing_Season\\\\SPEI\\\\SPEI12\\\\'"
   ]
  },
  {
   "cell_type": "code",
   "execution_count": 14,
   "metadata": {},
   "outputs": [],
   "source": [
    "spei_list = glob.glob(idir+\"*.tif\")\n",
    "spei_list.sort()"
   ]
  },
  {
   "cell_type": "code",
   "execution_count": 15,
   "metadata": {},
   "outputs": [],
   "source": [
    "f = 'R:\\\\UnitedStates\\\\ForDRI_project-NEW\\\\New_Model_2022\\\\INPUT_NEW_DATA_2022\\\\SPEI12\\\\SPEI12_201308.tif'\n",
    "maskDs = gdal.Open(f,GA_ReadOnly)# your mask raster\n",
    "proj=maskDs.GetProjectionRef()\n",
    "geot = maskDs.GetGeoTransform()\n",
    "minx = geot[0]\n",
    "maxy = geot[3]\n",
    "maxx = minx + geot[1] * maskDs.RasterXSize\n",
    "miny = maxy + geot[5] * maskDs.RasterYSize"
   ]
  },
  {
   "cell_type": "code",
   "execution_count": 16,
   "metadata": {},
   "outputs": [
    {
     "name": "stdout",
     "output_type": "stream",
     "text": [
      "SPEI12_202214\n",
      "SPEI12_202215\n",
      "SPEI12_202216\n",
      "SPEI12_202217\n",
      "SPEI12_202218\n",
      "SPEI12_202219\n",
      "SPEI12_202220\n",
      "SPEI12_202221\n",
      "SPEI12_202222\n",
      "SPEI12_202223\n",
      "SPEI12_202224\n",
      "SPEI12_202225\n",
      "SPEI12_202226\n",
      "SPEI12_202227\n",
      "SPEI12_202228\n",
      "SPEI12_202229\n",
      "SPEI12_202230\n",
      "SPEI12_202231\n",
      "SPEI12_202232\n",
      "SPEI12_202233\n"
     ]
    }
   ],
   "source": [
    "# 2022 growing season\n",
    "driver = gdal.GetDriverByName(\"GTiff\")\n",
    "for i in range(13,33):  # from 4 April\n",
    "    if i+1 < 10:\n",
    "        week = '0'+str(i+1)\n",
    "    else:\n",
    "        week = str(i+1)\n",
    "        \n",
    "    output = odir+'SPEI12_2022'+week+'.tif' #output file\n",
    "    data=gdal.Open(spei_list[i-13], GA_ReadOnly) #Your data the one you want to clip\n",
    "    gdal.Translate(output,data,format='GTiff',projWin=[minx,maxy,maxx,miny],outputSRS=proj)\n",
    "    print('SPEI12_2022'+week)"
   ]
  },
  {
   "cell_type": "code",
   "execution_count": null,
   "metadata": {},
   "outputs": [],
   "source": []
  },
  {
   "cell_type": "code",
   "execution_count": 32,
   "metadata": {},
   "outputs": [],
   "source": [
    "idir = 'R:\\\\UnitedStates\\\\ForDRI_project-NEW\\\\Case_Study_2022_Growing_Season\\\\SPI\\\\spi_60_mn_resampled\\\\'"
   ]
  },
  {
   "cell_type": "code",
   "execution_count": 33,
   "metadata": {},
   "outputs": [],
   "source": [
    "odir = 'R:\\\\UnitedStates\\\\ForDRI_project-NEW\\\\Case_Study_2022_Growing_Season\\\\SPI\\\\SPI60\\\\'"
   ]
  },
  {
   "cell_type": "code",
   "execution_count": 34,
   "metadata": {},
   "outputs": [],
   "source": [
    "spi_list = glob.glob(idir+\"*.tif\")\n",
    "spi_list.sort()"
   ]
  },
  {
   "cell_type": "code",
   "execution_count": 35,
   "metadata": {},
   "outputs": [],
   "source": [
    "f = 'R:\\\\UnitedStates\\\\ForDRI_project-NEW\\\\New_Model_2022\\\\INPUT_NEW_DATA_2022\\\\SPI60\\\\SPI60_201308.tif'\n",
    "maskDs = gdal.Open(f,GA_ReadOnly)# your mask raster\n",
    "proj=maskDs.GetProjectionRef()\n",
    "geot = maskDs.GetGeoTransform()\n",
    "minx = geot[0]\n",
    "maxy = geot[3]\n",
    "maxx = minx + geot[1] * maskDs.RasterXSize\n",
    "miny = maxy + geot[5] * maskDs.RasterYSize"
   ]
  },
  {
   "cell_type": "code",
   "execution_count": 36,
   "metadata": {},
   "outputs": [
    {
     "name": "stdout",
     "output_type": "stream",
     "text": [
      "SPI60_202214\n",
      "SPI60_202215\n",
      "SPI60_202216\n",
      "SPI60_202217\n",
      "SPI60_202218\n",
      "SPI60_202219\n",
      "SPI60_202220\n",
      "SPI60_202221\n",
      "SPI60_202222\n",
      "SPI60_202223\n",
      "SPI60_202224\n",
      "SPI60_202225\n",
      "SPI60_202226\n",
      "SPI60_202227\n",
      "SPI60_202228\n",
      "SPI60_202229\n",
      "SPI60_202230\n",
      "SPI60_202231\n",
      "SPI60_202232\n"
     ]
    },
    {
     "ename": "IndexError",
     "evalue": "list index out of range",
     "output_type": "error",
     "traceback": [
      "\u001b[1;31m---------------------------------------------------------------------------\u001b[0m",
      "\u001b[1;31mIndexError\u001b[0m                                Traceback (most recent call last)",
      "\u001b[1;32m<ipython-input-36-016a7e3c6936>\u001b[0m in \u001b[0;36m<module>\u001b[1;34m\u001b[0m\n\u001b[0;32m      8\u001b[0m \u001b[1;33m\u001b[0m\u001b[0m\n\u001b[0;32m      9\u001b[0m     \u001b[0moutput\u001b[0m \u001b[1;33m=\u001b[0m \u001b[0modir\u001b[0m\u001b[1;33m+\u001b[0m\u001b[1;34m'SPI60_2022'\u001b[0m\u001b[1;33m+\u001b[0m\u001b[0mweek\u001b[0m\u001b[1;33m+\u001b[0m\u001b[1;34m'.tif'\u001b[0m \u001b[1;31m#output file\u001b[0m\u001b[1;33m\u001b[0m\u001b[1;33m\u001b[0m\u001b[0m\n\u001b[1;32m---> 10\u001b[1;33m     \u001b[0mdata\u001b[0m\u001b[1;33m=\u001b[0m\u001b[0mgdal\u001b[0m\u001b[1;33m.\u001b[0m\u001b[0mOpen\u001b[0m\u001b[1;33m(\u001b[0m\u001b[0mspi_list\u001b[0m\u001b[1;33m[\u001b[0m\u001b[0mi\u001b[0m\u001b[1;33m-\u001b[0m\u001b[1;36m13\u001b[0m\u001b[1;33m]\u001b[0m\u001b[1;33m,\u001b[0m \u001b[0mGA_ReadOnly\u001b[0m\u001b[1;33m)\u001b[0m \u001b[1;31m#Your data the one you want to clip\u001b[0m\u001b[1;33m\u001b[0m\u001b[1;33m\u001b[0m\u001b[0m\n\u001b[0m\u001b[0;32m     11\u001b[0m     \u001b[0mgdal\u001b[0m\u001b[1;33m.\u001b[0m\u001b[0mTranslate\u001b[0m\u001b[1;33m(\u001b[0m\u001b[0moutput\u001b[0m\u001b[1;33m,\u001b[0m\u001b[0mdata\u001b[0m\u001b[1;33m,\u001b[0m\u001b[0mformat\u001b[0m\u001b[1;33m=\u001b[0m\u001b[1;34m'GTiff'\u001b[0m\u001b[1;33m,\u001b[0m\u001b[0mprojWin\u001b[0m\u001b[1;33m=\u001b[0m\u001b[1;33m[\u001b[0m\u001b[0mminx\u001b[0m\u001b[1;33m,\u001b[0m\u001b[0mmaxy\u001b[0m\u001b[1;33m,\u001b[0m\u001b[0mmaxx\u001b[0m\u001b[1;33m,\u001b[0m\u001b[0mminy\u001b[0m\u001b[1;33m]\u001b[0m\u001b[1;33m,\u001b[0m\u001b[0moutputSRS\u001b[0m\u001b[1;33m=\u001b[0m\u001b[0mproj\u001b[0m\u001b[1;33m)\u001b[0m\u001b[1;33m\u001b[0m\u001b[1;33m\u001b[0m\u001b[0m\n\u001b[0;32m     12\u001b[0m     \u001b[0mprint\u001b[0m\u001b[1;33m(\u001b[0m\u001b[1;34m'SPI60_2022'\u001b[0m\u001b[1;33m+\u001b[0m\u001b[0mweek\u001b[0m\u001b[1;33m)\u001b[0m\u001b[1;33m\u001b[0m\u001b[1;33m\u001b[0m\u001b[0m\n",
      "\u001b[1;31mIndexError\u001b[0m: list index out of range"
     ]
    }
   ],
   "source": [
    "# 2022 growing season\n",
    "driver = gdal.GetDriverByName(\"GTiff\")\n",
    "for i in range(13,33):  # from 4 April\n",
    "    if i+1 < 10:\n",
    "        week = '0'+str(i+1)\n",
    "    else:\n",
    "        week = str(i+1)\n",
    "        \n",
    "    output = odir+'SPI60_2022'+week+'.tif' #output file\n",
    "    data=gdal.Open(spi_list[i-13], GA_ReadOnly) #Your data the one you want to clip\n",
    "    gdal.Translate(output,data,format='GTiff',projWin=[minx,maxy,maxx,miny],outputSRS=proj)\n",
    "    print('SPI60_2022'+week)"
   ]
  },
  {
   "cell_type": "code",
   "execution_count": null,
   "metadata": {},
   "outputs": [],
   "source": []
  }
 ],
 "metadata": {
  "interpreter": {
   "hash": "f7fce67f7bf81c6c01801418c0740e5ed8883a3338285553951947b9d9952603"
  },
  "kernelspec": {
   "display_name": "Python 3.6.13 ('mywork')",
   "language": "python",
   "name": "python3"
  },
  "language_info": {
   "codemirror_mode": {
    "name": "ipython",
    "version": 3
   },
   "file_extension": ".py",
   "mimetype": "text/x-python",
   "name": "python",
   "nbconvert_exporter": "python",
   "pygments_lexer": "ipython3",
   "version": "3.6.13"
  },
  "orig_nbformat": 4
 },
 "nbformat": 4,
 "nbformat_minor": 2
}
