{
 "cells": [
  {
   "cell_type": "code",
   "execution_count": 2,
   "metadata": {},
   "outputs": [],
   "source": [
    "import pandas as pd\n",
    "import os\n",
    "import numpy as np\n",
    "import glob\n",
    "import gdal\n",
    "from gdalconst import GA_ReadOnly"
   ]
  },
  {
   "cell_type": "code",
   "execution_count": 2,
   "metadata": {},
   "outputs": [],
   "source": [
    "idir = \"R:\\\\UnitedStates\\\\ForDRI_project-NEW\\\\New_Model_2022\\\\GRACE_GWS_Percentage_raw\\\\\"\n",
    "gws_list = glob.glob(idir+\"gws*.img\")\n",
    "gws_list.sort()"
   ]
  },
  {
   "cell_type": "code",
   "execution_count": 8,
   "metadata": {},
   "outputs": [],
   "source": [
    "idir = \"R:\\\\UnitedStates\\\\ForDRI_project-NEW\\\\Case_Study_2022_Growing_Season\\\\GWS\\\\\"\n",
    "gws_list = glob.glob(idir+\"gws*.tif\")\n",
    "gws_list.sort()"
   ]
  },
  {
   "cell_type": "code",
   "execution_count": 9,
   "metadata": {},
   "outputs": [],
   "source": [
    "maskDs = gdal.Open('R:\\\\UnitedStates\\\\ForDRI_project-NEW\\\\New_Model_2022\\\\INPUT_NEW_DATA_2022\\\\EDDI12\\\\EDDI200301.tif', GA_ReadOnly)# your mask raster\n",
    "projection=maskDs.GetProjectionRef()\n",
    "geoTransform = maskDs.GetGeoTransform()\n",
    "minx = geoTransform[0]\n",
    "maxy = geoTransform[3]\n",
    "maxx = minx + geoTransform[1] * maskDs.RasterXSize\n",
    "miny = maxy + geoTransform[5] * maskDs.RasterYSize"
   ]
  },
  {
   "cell_type": "code",
   "execution_count": 11,
   "metadata": {},
   "outputs": [
    {
     "name": "stdout",
     "output_type": "stream",
     "text": [
      "R:\\UnitedStates\\ForDRI_project-NEW\\Case_Study_2022_Growing_Season\\GWS_raw\\GWS_20220103.tif\n",
      "R:\\UnitedStates\\ForDRI_project-NEW\\Case_Study_2022_Growing_Season\\GWS_raw\\GWS_20220110.tif\n",
      "R:\\UnitedStates\\ForDRI_project-NEW\\Case_Study_2022_Growing_Season\\GWS_raw\\GWS_20220117.tif\n",
      "R:\\UnitedStates\\ForDRI_project-NEW\\Case_Study_2022_Growing_Season\\GWS_raw\\GWS_20220124.tif\n",
      "R:\\UnitedStates\\ForDRI_project-NEW\\Case_Study_2022_Growing_Season\\GWS_raw\\GWS_20220131.tif\n",
      "R:\\UnitedStates\\ForDRI_project-NEW\\Case_Study_2022_Growing_Season\\GWS_raw\\GWS_20220207.tif\n",
      "R:\\UnitedStates\\ForDRI_project-NEW\\Case_Study_2022_Growing_Season\\GWS_raw\\GWS_20220214.tif\n",
      "R:\\UnitedStates\\ForDRI_project-NEW\\Case_Study_2022_Growing_Season\\GWS_raw\\GWS_20220221.tif\n",
      "R:\\UnitedStates\\ForDRI_project-NEW\\Case_Study_2022_Growing_Season\\GWS_raw\\GWS_20220228.tif\n",
      "R:\\UnitedStates\\ForDRI_project-NEW\\Case_Study_2022_Growing_Season\\GWS_raw\\GWS_20220307.tif\n",
      "R:\\UnitedStates\\ForDRI_project-NEW\\Case_Study_2022_Growing_Season\\GWS_raw\\GWS_20220314.tif\n",
      "R:\\UnitedStates\\ForDRI_project-NEW\\Case_Study_2022_Growing_Season\\GWS_raw\\GWS_20220321.tif\n",
      "R:\\UnitedStates\\ForDRI_project-NEW\\Case_Study_2022_Growing_Season\\GWS_raw\\GWS_20220328.tif\n",
      "R:\\UnitedStates\\ForDRI_project-NEW\\Case_Study_2022_Growing_Season\\GWS_raw\\GWS_20220404.tif\n",
      "R:\\UnitedStates\\ForDRI_project-NEW\\Case_Study_2022_Growing_Season\\GWS_raw\\GWS_20220411.tif\n",
      "R:\\UnitedStates\\ForDRI_project-NEW\\Case_Study_2022_Growing_Season\\GWS_raw\\GWS_20220418.tif\n",
      "R:\\UnitedStates\\ForDRI_project-NEW\\Case_Study_2022_Growing_Season\\GWS_raw\\GWS_20220425.tif\n",
      "R:\\UnitedStates\\ForDRI_project-NEW\\Case_Study_2022_Growing_Season\\GWS_raw\\GWS_20220502.tif\n",
      "R:\\UnitedStates\\ForDRI_project-NEW\\Case_Study_2022_Growing_Season\\GWS_raw\\GWS_20220509.tif\n",
      "R:\\UnitedStates\\ForDRI_project-NEW\\Case_Study_2022_Growing_Season\\GWS_raw\\GWS_20220516.tif\n",
      "R:\\UnitedStates\\ForDRI_project-NEW\\Case_Study_2022_Growing_Season\\GWS_raw\\GWS_20220523.tif\n",
      "R:\\UnitedStates\\ForDRI_project-NEW\\Case_Study_2022_Growing_Season\\GWS_raw\\GWS_20220530.tif\n",
      "R:\\UnitedStates\\ForDRI_project-NEW\\Case_Study_2022_Growing_Season\\GWS_raw\\GWS_20220606.tif\n",
      "R:\\UnitedStates\\ForDRI_project-NEW\\Case_Study_2022_Growing_Season\\GWS_raw\\GWS_20220613.tif\n",
      "R:\\UnitedStates\\ForDRI_project-NEW\\Case_Study_2022_Growing_Season\\GWS_raw\\GWS_20220620.tif\n",
      "R:\\UnitedStates\\ForDRI_project-NEW\\Case_Study_2022_Growing_Season\\GWS_raw\\GWS_20220627.tif\n",
      "R:\\UnitedStates\\ForDRI_project-NEW\\Case_Study_2022_Growing_Season\\GWS_raw\\GWS_20220704.tif\n",
      "R:\\UnitedStates\\ForDRI_project-NEW\\Case_Study_2022_Growing_Season\\GWS_raw\\GWS_20220711.tif\n",
      "R:\\UnitedStates\\ForDRI_project-NEW\\Case_Study_2022_Growing_Season\\GWS_raw\\GWS_20220718.tif\n",
      "R:\\UnitedStates\\ForDRI_project-NEW\\Case_Study_2022_Growing_Season\\GWS_raw\\GWS_20220725.tif\n",
      "R:\\UnitedStates\\ForDRI_project-NEW\\Case_Study_2022_Growing_Season\\GWS_raw\\GWS_20220801.tif\n",
      "R:\\UnitedStates\\ForDRI_project-NEW\\Case_Study_2022_Growing_Season\\GWS_raw\\GWS_20220808.tif\n",
      "R:\\UnitedStates\\ForDRI_project-NEW\\Case_Study_2022_Growing_Season\\GWS_raw\\GWS_20220815.tif\n",
      "R:\\UnitedStates\\ForDRI_project-NEW\\Case_Study_2022_Growing_Season\\GWS_raw\\GWS_20220822.tif\n"
     ]
    }
   ],
   "source": [
    "for f in gws_list:\n",
    "    fname = os.path.basename(f).split('_')[4][:-4]\n",
    "    data=gdal.Open(f, GA_ReadOnly) #Your data the one you want to clip\n",
    "    output = 'R:\\\\UnitedStates\\\\ForDRI_project-NEW\\\\Case_Study_2022_Growing_Season\\\\GWS_raw\\\\GWS_'+fname+'.tif' #output file\n",
    "    gdal.Translate(output,data,format='GTiff',projWin=[minx,maxy,maxx,miny],outputSRS=projection)\n",
    "    print(output)"
   ]
  },
  {
   "cell_type": "code",
   "execution_count": 16,
   "metadata": {},
   "outputs": [],
   "source": [
    "gws_list = glob.glob('R:\\\\UnitedStates\\\\ForDRI_project-NEW\\\\Case_Study_2022_Growing_Season\\\\GWS_raw\\\\' + '*.tif')\n",
    "gws_list.sort()\n",
    "mean_list = glob.glob('R:\\\\UnitedStates\\\\ForDRI_project-NEW\\\\New_Model_2022\\\\Processing\\\\GRACE\\\\gws_mean\\\\' + '*.tif')\n",
    "mean_list.sort()\n",
    "std_list = glob.glob('R:\\\\UnitedStates\\\\ForDRI_project-NEW\\\\New_Model_2022\\\\Processing\\\\GRACE\\\\gws_std\\\\' + '*.tif')\n",
    "std_list.sort()"
   ]
  },
  {
   "cell_type": "code",
   "execution_count": 13,
   "metadata": {},
   "outputs": [],
   "source": [
    "gws_arr = []\n",
    "for gws in gws_list:\n",
    "    ds = gdal.Open(gws)\n",
    "    arr = ds.ReadAsArray()\n",
    "    arr[arr==-999] = np.nan\n",
    "    gws_arr.append(arr)\n",
    "gws_arr = np.asarray(gws_arr)"
   ]
  },
  {
   "cell_type": "code",
   "execution_count": null,
   "metadata": {},
   "outputs": [],
   "source": [
    "#if don't have mean and std images, run this\n",
    "driver = gdal.GetDriverByName(\"GTiff\")\n",
    "for i in range(1,53):\n",
    "    gws_month = gws_arr[i-1::52,:,:]\n",
    "    gws_mean = np.mean(gws_month,0)\n",
    "    mean = driver.Create(idir+'gws_mean\\\\MEAN_' + str(i)+'.tif', gws_mean.shape[1], gws_mean.shape[0], 1, gdal.GDT_Float32)\n",
    "    mean.GetRasterBand(1).WriteArray(gws_mean)\n",
    "    gws_std = np.std(gws_month,0)\n",
    "    std = driver.Create(idir+'gws_std\\\\STD_' + str(i)+'.tif', gws_std.shape[1], gws_std.shape[0], 1, gdal.GDT_Float32)\n",
    "    std.GetRasterBand(1).WriteArray(gws_std)\n",
    "    print(i)\n",
    "    mean.FlushCache()\n",
    "    std.FlushCache()\n",
    "    mean.SetGeoTransform(geoTransform)\n",
    "    mean.SetProjection(projection)\n",
    "    std.SetGeoTransform(geoTransform)\n",
    "    std.SetProjection(projection)\n",
    "    del gws_mean, gws_std"
   ]
  },
  {
   "cell_type": "code",
   "execution_count": null,
   "metadata": {},
   "outputs": [],
   "source": [
    "driver = gdal.GetDriverByName(\"GTiff\")\n",
    "for i in range(52):\n",
    "    if i+1 < 10:\n",
    "        week = '0'+str(i+1)\n",
    "    else:\n",
    "        week = str(i+1)\n",
    "    gws_mean = gdal.Open(mean_list[i])\n",
    "    gws_mean_arr = gws_mean.ReadAsArray()\n",
    "    gws_std = gdal.Open(std_list[i])\n",
    "    gws_std_arr = gws_std.ReadAsArray()\n",
    "    for j in range(18):\n",
    "        gws = gdal.Open(gws_list[52*j+i])\n",
    "        gws_arr = gws.ReadAsArray()\n",
    "        projection = gws.GetProjectionRef()\n",
    "        geoTransform = gws.GetGeoTransform()\n",
    "        gws_zscore = (gws_arr-gws_mean_arr)/gws_std_arr\n",
    "        year = str(2003+j)\n",
    "        zscore = driver.Create(idir+'gws_zscore\\\\GWS_' + year+week+'.tif', gws_arr.shape[1], gws_arr.shape[0], 1, gdal.GDT_Float32)\n",
    "        zscore.GetRasterBand(1).WriteArray(gws_zscore)\n",
    "        zscore.SetGeoTransform(geoTransform)\n",
    "        zscore.SetProjection(projection)\n",
    "        zscore.FlushCache()\n",
    "        print('GWS_' + year+week)\n",
    "        del gws_arr"
   ]
  },
  {
   "cell_type": "code",
   "execution_count": 23,
   "metadata": {},
   "outputs": [
    {
     "name": "stdout",
     "output_type": "stream",
     "text": [
      "GWS_202201\n",
      "GWS_202202\n",
      "GWS_202203\n",
      "GWS_202204\n",
      "GWS_202205\n",
      "GWS_202206\n",
      "GWS_202207\n",
      "GWS_202208\n",
      "GWS_202209\n",
      "GWS_202210\n",
      "GWS_202211\n",
      "GWS_202212\n",
      "GWS_202213\n",
      "GWS_202214\n",
      "GWS_202215\n",
      "GWS_202216\n",
      "GWS_202217\n",
      "GWS_202218\n",
      "GWS_202219\n",
      "GWS_202220\n",
      "GWS_202221\n",
      "GWS_202222\n",
      "GWS_202223\n",
      "GWS_202224\n",
      "GWS_202225\n",
      "GWS_202226\n",
      "GWS_202227\n",
      "GWS_202228\n",
      "GWS_202229\n",
      "GWS_202230\n",
      "GWS_202231\n",
      "GWS_202232\n",
      "GWS_202233\n",
      "GWS_202234\n"
     ]
    },
    {
     "ename": "IndexError",
     "evalue": "list index out of range",
     "output_type": "error",
     "traceback": [
      "\u001b[1;31m---------------------------------------------------------------------------\u001b[0m",
      "\u001b[1;31mIndexError\u001b[0m                                Traceback (most recent call last)",
      "\u001b[1;32m<ipython-input-23-e726199affd7>\u001b[0m in \u001b[0;36m<module>\u001b[1;34m\u001b[0m\n\u001b[0;32m     10\u001b[0m     \u001b[0mgws_std_arr\u001b[0m \u001b[1;33m=\u001b[0m \u001b[0mgws_std\u001b[0m\u001b[1;33m.\u001b[0m\u001b[0mReadAsArray\u001b[0m\u001b[1;33m(\u001b[0m\u001b[1;33m)\u001b[0m\u001b[1;33m\u001b[0m\u001b[1;33m\u001b[0m\u001b[0m\n\u001b[0;32m     11\u001b[0m \u001b[1;33m\u001b[0m\u001b[0m\n\u001b[1;32m---> 12\u001b[1;33m     \u001b[0mgws\u001b[0m \u001b[1;33m=\u001b[0m \u001b[0mgdal\u001b[0m\u001b[1;33m.\u001b[0m\u001b[0mOpen\u001b[0m\u001b[1;33m(\u001b[0m\u001b[0mgws_list\u001b[0m\u001b[1;33m[\u001b[0m\u001b[0mi\u001b[0m\u001b[1;33m]\u001b[0m\u001b[1;33m)\u001b[0m\u001b[1;33m\u001b[0m\u001b[1;33m\u001b[0m\u001b[0m\n\u001b[0m\u001b[0;32m     13\u001b[0m     \u001b[0mgws_arr\u001b[0m \u001b[1;33m=\u001b[0m \u001b[0mgws\u001b[0m\u001b[1;33m.\u001b[0m\u001b[0mReadAsArray\u001b[0m\u001b[1;33m(\u001b[0m\u001b[1;33m)\u001b[0m\u001b[1;33m\u001b[0m\u001b[1;33m\u001b[0m\u001b[0m\n\u001b[0;32m     14\u001b[0m     \u001b[0mprojection\u001b[0m \u001b[1;33m=\u001b[0m \u001b[0mgws\u001b[0m\u001b[1;33m.\u001b[0m\u001b[0mGetProjectionRef\u001b[0m\u001b[1;33m(\u001b[0m\u001b[1;33m)\u001b[0m\u001b[1;33m\u001b[0m\u001b[1;33m\u001b[0m\u001b[0m\n",
      "\u001b[1;31mIndexError\u001b[0m: list index out of range"
     ]
    }
   ],
   "source": [
    "driver = gdal.GetDriverByName(\"GTiff\")\n",
    "for i in range(52):\n",
    "    if i+1 < 10:\n",
    "        week = '0'+str(i+1)\n",
    "    else:\n",
    "        week = str(i+1)\n",
    "    gws_mean = gdal.Open(mean_list[i])\n",
    "    gws_mean_arr = gws_mean.ReadAsArray()\n",
    "    gws_std = gdal.Open(std_list[i])\n",
    "    gws_std_arr = gws_std.ReadAsArray()\n",
    "\n",
    "    gws = gdal.Open(gws_list[i])\n",
    "    gws_arr = gws.ReadAsArray()\n",
    "    projection = gws.GetProjectionRef()\n",
    "    geoTransform = gws.GetGeoTransform()\n",
    "    gws_zscore = (gws_arr-gws_mean_arr)/gws_std_arr\n",
    "    year = '2022'\n",
    "    zscore = driver.Create('R:\\\\UnitedStates\\\\ForDRI_project-NEW\\\\Case_Study_2022_Growing_Season\\\\GWS_zscore\\\\GWS_' + year+week+'.tif', gws_arr.shape[1], gws_arr.shape[0], 1, gdal.GDT_Float32)\n",
    "    zscore.GetRasterBand(1).WriteArray(gws_zscore)\n",
    "    zscore.SetGeoTransform(geoTransform)\n",
    "    zscore.SetProjection(projection)\n",
    "    zscore.FlushCache()\n",
    "    print('GWS_' + year+week)\n",
    "    del gws_arr"
   ]
  },
  {
   "cell_type": "code",
   "execution_count": null,
   "metadata": {},
   "outputs": [],
   "source": []
  }
 ],
 "metadata": {
  "interpreter": {
   "hash": "f7fce67f7bf81c6c01801418c0740e5ed8883a3338285553951947b9d9952603"
  },
  "kernelspec": {
   "display_name": "Python 3.6.13 ('mywork')",
   "language": "python",
   "name": "python3"
  },
  "language_info": {
   "codemirror_mode": {
    "name": "ipython",
    "version": 3
   },
   "file_extension": ".py",
   "mimetype": "text/x-python",
   "name": "python",
   "nbconvert_exporter": "python",
   "pygments_lexer": "ipython3",
   "version": "3.6.13"
  },
  "orig_nbformat": 4
 },
 "nbformat": 4,
 "nbformat_minor": 2
}
